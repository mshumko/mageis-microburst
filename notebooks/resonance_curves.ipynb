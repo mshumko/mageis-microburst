{
 "cells": [
  {
   "cell_type": "markdown",
   "metadata": {},
   "source": [
    "Here I develop the diffusion curves for the magEIS microbust"
   ]
  },
  {
   "cell_type": "code",
   "execution_count": 86,
   "metadata": {
    "collapsed": true
   },
   "outputs": [],
   "source": [
    "import numpy as np\n",
    "import matplotlib.pyplot as plt\n",
    "#from matplotlib.patches import Ellipse\n",
    "%matplotlib inline"
   ]
  },
  {
   "cell_type": "markdown",
   "metadata": {},
   "source": [
    "Define physical constants and relativistic $\\beta$ and $\\gamma$, functions of kinetic energy for electrons"
   ]
  },
  {
   "cell_type": "code",
   "execution_count": 87,
   "metadata": {
    "collapsed": true
   },
   "outputs": [],
   "source": [
    "c = 3.0E8 # m/s\n",
    "mu_0 = 1.26E-6 # H·m−1 or N·A−2\n",
    "eps0 = 8.85E-12 # F/m\n",
    "m_p = 1.7E-27 # kg\n",
    "m_e = 9.1E-31 # kg\n",
    "q_e = -1.6E-19 # C\n",
    "beta = lambda Ek: np.sqrt(1-(Ek/511+1)**(-2))\n",
    "gamma = lambda Ek: np.sqrt(1-beta(Ek)**2)**(-1/2)"
   ]
  },
  {
   "cell_type": "markdown",
   "metadata": {},
   "source": [
    "Define a dipole magnetic field function in terms of L and $\\lambda$"
   ]
  },
  {
   "cell_type": "code",
   "execution_count": 88,
   "metadata": {
    "collapsed": true
   },
   "outputs": [],
   "source": [
    "B0 = 31.2E-6 # Tesla from Schultz and Lanzerotti \n",
    "\n",
    "# MagB is from Eq. 1.23 in Schultz and Lanzerotti for a dipole field.\n",
    "magB = lambda mlat, L: (B0/L**3)*np.sqrt(1 + 3*np.power(np.sin(np.deg2rad(mlat)), 2))/np.cos(np.deg2rad(mlat))**6"
   ]
  },
  {
   "cell_type": "markdown",
   "metadata": {},
   "source": [
    "Define plasma frequency $\\omega_{pe}$, gyrofrequency $\\omega_{ce}$, and the chorus |k| (assume parallel propagation and cold plasma dispersion relation).\n",
    "\n",
    "These equations are parametrized in terms of L shell and magnetic latitude using a dipole magnetic field"
   ]
  },
  {
   "cell_type": "code",
   "execution_count": 89,
   "metadata": {
    "collapsed": true
   },
   "outputs": [],
   "source": [
    "wce = lambda λ, Ldip: np.abs(q_e)*magB(λ, Ldip)/m_e\n",
    "n_e = lambda n0, λ = None: n0 # Electron number density. Currently constant, but can assume a complex function.\n",
    "wpe = lambda n0, λ = None: np.sqrt(n_e(n0, λ)*q_e**2/(m_e*eps0))\n",
    "magk = lambda w, n0, λ, Ldip: (w/c)*np.sqrt(1 - wpe(n0, λ)**2/(w*(w - wce(λ, Ldip))))"
   ]
  },
  {
   "cell_type": "code",
   "execution_count": 90,
   "metadata": {
    "collapsed": true
   },
   "outputs": [],
   "source": [
    "def p(vPerp, vParallel):\n",
    "    \"\"\"\n",
    "    Relativsticlly map velocity to momentum space\n",
    "    v is two lists, vperp and vparallel.\n",
    "    Output is normalized momnetum (Momentum in SI units)/(me*c)\n",
    "    \"\"\"\n",
    "    validInd = np.where(np.isfinite(vPerp))\n",
    "    v = np.sqrt(np.power(vPerp[validInd], 2) + np.power(vParallel[validInd], 2))\n",
    "    g = 1/np.sqrt(1 - v**2/c**2)\n",
    "    pPerp = vPerp[validInd]*g/c\n",
    "    pParallel = vParallel[validInd]*g/c\n",
    "    return pPerp, pParallel"
   ]
  },
  {
   "cell_type": "markdown",
   "metadata": {},
   "source": [
    "Assuming a resonance, define the perpendicular velocity given a set of conditions and parallel velocity"
   ]
  },
  {
   "cell_type": "code",
   "execution_count": 95,
   "metadata": {
    "collapsed": true
   },
   "outputs": [],
   "source": [
    "def resCurveVperp(vParallel, w, n0, mlat, L, n = 1):\n",
    "    \"\"\"\n",
    "    This function defines the perpendicular velocity of a resonant particle with arbitrary resonance number.\n",
    "    \"\"\"\n",
    "    #print('u = {0:0.2e} m/s'.format(w/magk(w, n0, mlat, L)) )\n",
    "    A = (c*(w - vParallel*magk(w, n0, mlat, L))/(n*wce(mlat, L)))**2\n",
    "    return np.sqrt(c**2 - vParallel**2 - A)"
   ]
  },
  {
   "cell_type": "markdown",
   "metadata": {},
   "source": [
    "Visualize a few resonance curves"
   ]
  },
  {
   "cell_type": "code",
   "execution_count": 99,
   "metadata": {},
   "outputs": [
    {
     "name": "stdout",
     "output_type": "stream",
     "text": [
      "w_pe/w_ce =  1.13929205331\n",
      "magB =  4.875e-07\n",
      "wce(mlat, L) =  85714.2857143\n"
     ]
    },
    {
     "name": "stderr",
     "output_type": "stream",
     "text": [
      "/usr/local/lib/python3.5/dist-packages/ipykernel_launcher.py:7: RuntimeWarning: invalid value encountered in sqrt\n",
      "  import sys\n",
      "/usr/local/lib/python3.5/dist-packages/matplotlib/axes/_axes.py:545: UserWarning: No labelled objects found. Use label='...' kwarg on individual plots.\n",
      "  warnings.warn(\"No labelled objects found. \"\n"
     ]
    },
    {
     "data": {
      "image/png": "[encoded data removed]",
      "text/plain": [
       "<matplotlib.figure.Figure at 0x7f518d849c18>"
      ]
     },
     "metadata": {},
     "output_type": "display_data"
    }
   ],
   "source": [
    "vParallel = c*np.linspace(0, 0.9, num = 100)\n",
    "mlat = 0\n",
    "L = 4\n",
    "n0 = 3E6 # Density at the time\n",
    "print('w_pe/w_ce = ', wpe(n0, mlat)/wce(mlat, L))\n",
    "print('magB = ', magB(mlat, L))\n",
    "print('wce(mlat, L) = ', wce(mlat, L))\n",
    "\n",
    "vPerp = resCurveVperp(vParallel, 0.4*wce(mlat, L), n0, mlat, L)\n",
    "plt.plot(vPerp, vParallel)\n",
    "plt.xlabel(r'$v_{\\perp} (m/s)$')\n",
    "plt.ylabel(r'$v_{||} (m/s)$')\n",
    "plt.title(r'Resonance Curves for $\\omega_{pe} / \\omega_{ce} = $' + str(round(wpe(n0, mlat)/wce(mlat, L), 2)))\n",
    "plt.legend()"
   ]
  },
  {
   "cell_type": "code",
   "execution_count": 100,
   "metadata": {},
   "outputs": [
    {
     "data": {
      "text/plain": [
       "<matplotlib.legend.Legend at 0x7f518d936390>"
      ]
     },
     "execution_count": 100,
     "metadata": {},
     "output_type": "execute_result"
    },
    {
     "data": {
      "image/png": "[encoded data removed]",
      "text/plain": [
       "<matplotlib.figure.Figure at 0x7f518d797b00>"
      ]
     },
     "metadata": {},
     "output_type": "display_data"
    }
   ],
   "source": [
    "pPerp, pParallel = p(vPerp, vParallel)\n",
    "plt.scatter(pPerp, pParallel, label = r'$0.4 \\ \\Omega_{ce}$')\n",
    "plt.ylim((0, 10))\n",
    "plt.xlim((0, 10))\n",
    "plt.xlabel(r'$p_{\\perp}/m_e c$')\n",
    "plt.ylabel(r'$p_{||}/m_e c$')\n",
    "plt.title(r'Resonance Curves for $\\omega_{pe} / \\omega_{ce} = $' + str(round(wpe(n0, mlat)/wce(mlat, L), 2)))\n",
    "plt.legend()"
   ]
  },
  {
   "cell_type": "code",
   "execution_count": 94,
   "metadata": {},
   "outputs": [
    {
     "data": {
      "image/png": "[encoded data removed]",
      "text/plain": [
       "<matplotlib.figure.Figure at 0x7f518dba2940>"
      ]
     },
     "metadata": {},
     "output_type": "display_data"
    }
   ],
   "source": [
    "# Check that the velocity -> momentum mapping works\n",
    "\n",
    "v = 1E8 # m/s\n",
    "theta = np.linspace(0, np.pi/2)\n",
    "v1 = v*np.cos(theta)\n",
    "v2 = v*np.sin(theta)\n",
    "p1, p2 = p(v1, v2)\n",
    "\n",
    "plt.plot(p1, p2)\n",
    "plt.axes().set_aspect('equal', 'datalim')"
   ]
  },
  {
   "cell_type": "code",
   "execution_count": null,
   "metadata": {
    "collapsed": true
   },
   "outputs": [],
   "source": []
  }
 ],
 "metadata": {
  "kernelspec": {
   "display_name": "Python 3",
   "language": "python",
   "name": "python3"
  },
  "language_info": {
   "codemirror_mode": {
    "name": "ipython",
    "version": 3
   },
   "file_extension": ".py",
   "mimetype": "text/x-python",
   "name": "python",
   "nbconvert_exporter": "python",
   "pygments_lexer": "ipython3",
   "version": "3.5.2"
  }
 },
 "nbformat": 4,
 "nbformat_minor": 2
}
