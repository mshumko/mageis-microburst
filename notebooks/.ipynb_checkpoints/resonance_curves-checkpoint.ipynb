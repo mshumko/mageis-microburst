{
 "cells": [
  {
   "cell_type": "markdown",
   "metadata": {},
   "source": [
    "Here I develop the diffusion curves for the magEIS microbust"
   ]
  },
  {
   "cell_type": "code",
   "execution_count": 28,
   "metadata": {
    "collapsed": true
   },
   "outputs": [],
   "source": [
    "import numpy as np\n",
    "import matplotlib.pyplot as plt\n",
    "#from matplotlib.patches import Ellipse\n",
    "%matplotlib inline"
   ]
  },
  {
   "cell_type": "markdown",
   "metadata": {},
   "source": [
    "Define physical constants and relativistic $\\beta$ and $\\gamma$, functions of kinetic energy for electrons"
   ]
  },
  {
   "cell_type": "code",
   "execution_count": 29,
   "metadata": {
    "collapsed": true
   },
   "outputs": [],
   "source": [
    "c = 3.0E8 # m/s\n",
    "mu_0 = 1.26E-6 # H·m−1 or N·A−2\n",
    "eps0 = 8.85E-12 # F/m\n",
    "m_p = 1.7E-27 # kg\n",
    "m_e = 9.1E-31 # kg\n",
    "q_e = -1.6E-19 # C\n",
    "beta = lambda Ek: np.sqrt(1-(Ek/511+1)**(-2))\n",
    "gamma = lambda Ek: np.sqrt(1-beta(Ek)**2)**(-1/2)"
   ]
  },
  {
   "cell_type": "markdown",
   "metadata": {},
   "source": [
    "Define a dipole magnetic field function in terms of L and $\\lambda$"
   ]
  },
  {
   "cell_type": "code",
   "execution_count": 30,
   "metadata": {
    "collapsed": true
   },
   "outputs": [],
   "source": [
    "B0 = 31.2E-6 # Tesla from Schultz and Lanzerotti \n",
    "\n",
    "# MagB is from Eq. 1.23 in Schultz and Lanzerotti for a dipole field.\n",
    "magB = lambda mlat, L: (B0/L**3)*np.sqrt(1 + 3*np.power(np.sin(np.deg2rad(mlat)), 2))/np.cos(np.deg2rad(mlat))**6"
   ]
  },
  {
   "cell_type": "markdown",
   "metadata": {},
   "source": [
    "Define plasma frequency $\\omega_{pe}$, gyrofrequency $\\omega_{ce}$, and the chorus |k| (assume parallel propagation and cold plasma dispersion relation).\n",
    "\n",
    "These equations are parametrized in terms of L shell and magnetic latitude using a dipole magnetic field"
   ]
  },
  {
   "cell_type": "code",
   "execution_count": 144,
   "metadata": {},
   "outputs": [],
   "source": [
    "wce = lambda λ, Ldip: np.abs(q_e)*magB(λ, Ldip)/m_e\n",
    "n_e = lambda n0, λ = None: n0 # Electron number density. Currently constant, but can assume a complex function.\n",
    "wpe = lambda n0, λ = None: np.sqrt(n_e(n0, λ)*q_e**2/(m_e*eps0))\n",
    "magk = lambda w, n0, λ, Ldip: (w/c)*np.sqrt(1 - wpe(n0, λ)**2/(w*(w - wce(λ, Ldip))))"
   ]
  },
  {
   "cell_type": "code",
   "execution_count": 167,
   "metadata": {
    "collapsed": true
   },
   "outputs": [],
   "source": [
    "def p(vPerp, vParallel):\n",
    "    \"\"\"\n",
    "    Relativsticlly map velocity to momentum space\n",
    "    v is two lists, vperp and vparallel.\n",
    "    Output is normalized momnetum (Momentum in SI units)/(me*c)\n",
    "    \"\"\"\n",
    "    validInd = np.where(np.isfinite(vPerp))\n",
    "    v = np.sqrt(np.power(vPerp[validInd], 2) + np.power(vParallel[validInd], 2))\n",
    "    g = np.sqrt(1 - v**2/c**2)\n",
    "    pPerp = vPerp[validInd]/(g*c)\n",
    "    pParallel = vParallel[validInd]/(g*c)\n",
    "    return pPerp, pParallel"
   ]
  },
  {
   "cell_type": "markdown",
   "metadata": {},
   "source": [
    "Assuming a resonance, define the perpendicular velocity given a set of conditions and parallel velocity"
   ]
  },
  {
   "cell_type": "code",
   "execution_count": 99,
   "metadata": {
    "collapsed": true
   },
   "outputs": [],
   "source": [
    "def resCurveVperp(vParallel, w, n0, mlat, L, n = 1):\n",
    "    \"\"\"\n",
    "    This function defines the perpendicular velocity of a resonant particle with arbitrary resonance number.\n",
    "    \"\"\"\n",
    "    #print('u = {0:0.2e} m/s'.format(w/magk(w, n0, mlat, L)) )\n",
    "    A = (c*(w - vParallel*magk(w, n0, mlat, L))/(n*wce(mlat, L)))**2\n",
    "    return np.sqrt(c**2 - vParallel**2 - A)"
   ]
  },
  {
   "cell_type": "markdown",
   "metadata": {},
   "source": [
    "Visualize a few resonance curves"
   ]
  },
  {
   "cell_type": "code",
   "execution_count": 168,
   "metadata": {},
   "outputs": [
    {
     "name": "stdout",
     "output_type": "stream",
     "text": [
      "w_pe/w_ce =  6.57770573663\n",
      "magB =  4.875e-07\n",
      "wce(mlat, L) =  85714.2857143\n"
     ]
    },
    {
     "name": "stderr",
     "output_type": "stream",
     "text": [
      "/usr/local/lib/python3.5/dist-packages/ipykernel_launcher.py:8: RuntimeWarning: invalid value encountered in sqrt\n",
      "  \n",
      "/usr/local/lib/python3.5/dist-packages/matplotlib/axes/_axes.py:545: UserWarning: No labelled objects found. Use label='...' kwarg on individual plots.\n",
      "  warnings.warn(\"No labelled objects found. \"\n"
     ]
    },
    {
     "data": {
      "image/png": "[encoded data removed]",
      "text/plain": [
       "<matplotlib.figure.Figure at 0x7fa856da2668>"
      ]
     },
     "metadata": {},
     "output_type": "display_data"
    }
   ],
   "source": [
    "vParallel = c*np.linspace(0, 0.9, num = 100)\n",
    "mlat = 0\n",
    "L = 4\n",
    "n0 = 100E6 # Density at the time\n",
    "print('w_pe/w_ce = ', wpe(n0, mlat)/wce(mlat, L))\n",
    "print('magB = ', magB(mlat, L))\n",
    "print('wce(mlat, L) = ', wce(mlat, L))\n",
    "\n",
    "vPerp = resCurveVperp(vParallel, 0.1*wce(mlat, L), n0, mlat, L)\n",
    "plt.plot(vPerp, vParallel)\n",
    "plt.xlabel(r'$v_{\\perp} (m/s)$')\n",
    "plt.ylabel(r'$v_{||} (m/s)$')\n",
    "plt.title(r'Resonance Curves for $\\omega_{pe} / \\omega_{ce} = $' + str(round(wpe(n0, mlat)/wce(mlat, L), 2)))\n",
    "plt.legend()"
   ]
  },
  {
   "cell_type": "code",
   "execution_count": 169,
   "metadata": {},
   "outputs": [
    {
     "data": {
      "text/plain": [
       "<matplotlib.legend.Legend at 0x7fa856bbaf60>"
      ]
     },
     "execution_count": 169,
     "metadata": {},
     "output_type": "execute_result"
    },
    {
     "data": {
      "image/png": "[encoded data removed]",
      "text/plain": [
       "<matplotlib.figure.Figure at 0x7fa856c58358>"
      ]
     },
     "metadata": {},
     "output_type": "display_data"
    }
   ],
   "source": [
    "pPerp, pParallel = p(vPerp, vParallel)\n",
    "plt.plot(pPerp, pParallel, label = r'$0.1 \\ \\Omega_{ce}$')\n",
    "#plt.ylim((0, 4))\n",
    "#plt.xlim((0, 4))\n",
    "plt.xlabel(r'$p_{\\perp}/m_e c$')\n",
    "plt.ylabel(r'$p_{||}/m_e c$')\n",
    "plt.title(r'Resonance Curves for $\\omega_{pe} / \\omega_{ce} = $' + str(round(wpe(n0, mlat)/wce(mlat, L), 2)))\n",
    "plt.legend()"
   ]
  },
  {
   "cell_type": "code",
   "execution_count": 153,
   "metadata": {},
   "outputs": [
    {
     "name": "stdout",
     "output_type": "stream",
     "text": [
      "2.76e+08, 6.00e+07\n",
      "2.75e+08, 6.06e+07\n",
      "2.75e+08, 6.12e+07\n",
      "2.74e+08, 6.18e+07\n",
      "2.73e+08, 6.24e+07\n",
      "2.73e+08, 6.30e+07\n",
      "2.72e+08, 6.36e+07\n",
      "2.71e+08, 6.42e+07\n",
      "2.71e+08, 6.48e+07\n",
      "2.70e+08, 6.55e+07\n",
      "2.69e+08, 6.61e+07\n",
      "2.68e+08, 6.67e+07\n",
      "2.68e+08, 6.73e+07\n",
      "2.67e+08, 6.79e+07\n",
      "2.66e+08, 6.85e+07\n",
      "2.65e+08, 6.91e+07\n",
      "2.65e+08, 6.97e+07\n",
      "2.64e+08, 7.03e+07\n",
      "2.63e+08, 7.09e+07\n",
      "2.62e+08, 7.15e+07\n",
      "2.61e+08, 7.21e+07\n",
      "2.61e+08, 7.27e+07\n",
      "2.60e+08, 7.33e+07\n",
      "2.59e+08, 7.39e+07\n",
      "2.58e+08, 7.45e+07\n",
      "2.57e+08, 7.52e+07\n",
      "2.56e+08, 7.58e+07\n",
      "2.55e+08, 7.64e+07\n",
      "2.55e+08, 7.70e+07\n",
      "2.54e+08, 7.76e+07\n",
      "2.53e+08, 7.82e+07\n",
      "2.52e+08, 7.88e+07\n",
      "2.51e+08, 7.94e+07\n",
      "2.50e+08, 8.00e+07\n",
      "2.49e+08, 8.06e+07\n",
      "2.48e+08, 8.12e+07\n",
      "2.47e+08, 8.18e+07\n",
      "2.46e+08, 8.24e+07\n",
      "2.45e+08, 8.30e+07\n",
      "2.44e+08, 8.36e+07\n",
      "2.43e+08, 8.42e+07\n",
      "2.42e+08, 8.48e+07\n",
      "2.41e+08, 8.55e+07\n",
      "2.39e+08, 8.61e+07\n",
      "2.38e+08, 8.67e+07\n",
      "2.37e+08, 8.73e+07\n",
      "2.36e+08, 8.79e+07\n",
      "2.35e+08, 8.85e+07\n",
      "2.34e+08, 8.91e+07\n",
      "2.33e+08, 8.97e+07\n",
      "2.31e+08, 9.03e+07\n",
      "2.30e+08, 9.09e+07\n",
      "2.29e+08, 9.15e+07\n",
      "2.28e+08, 9.21e+07\n",
      "2.26e+08, 9.27e+07\n",
      "2.25e+08, 9.33e+07\n",
      "2.24e+08, 9.39e+07\n",
      "2.23e+08, 9.45e+07\n",
      "2.21e+08, 9.52e+07\n",
      "2.20e+08, 9.58e+07\n",
      "2.19e+08, 9.64e+07\n",
      "2.17e+08, 9.70e+07\n",
      "2.16e+08, 9.76e+07\n",
      "2.14e+08, 9.82e+07\n",
      "2.13e+08, 9.88e+07\n",
      "2.11e+08, 9.94e+07\n",
      "2.10e+08, 1.00e+08\n",
      "2.08e+08, 1.01e+08\n",
      "2.07e+08, 1.01e+08\n",
      "2.05e+08, 1.02e+08\n",
      "2.04e+08, 1.02e+08\n",
      "2.02e+08, 1.03e+08\n",
      "2.01e+08, 1.04e+08\n",
      "1.99e+08, 1.04e+08\n",
      "1.97e+08, 1.05e+08\n",
      "1.96e+08, 1.05e+08\n",
      "1.94e+08, 1.06e+08\n",
      "1.92e+08, 1.07e+08\n",
      "1.90e+08, 1.07e+08\n",
      "1.89e+08, 1.08e+08\n",
      "1.87e+08, 1.08e+08\n",
      "1.85e+08, 1.09e+08\n",
      "1.83e+08, 1.10e+08\n",
      "1.81e+08, 1.10e+08\n",
      "1.79e+08, 1.11e+08\n",
      "1.77e+08, 1.12e+08\n",
      "1.75e+08, 1.12e+08\n",
      "1.73e+08, 1.13e+08\n",
      "1.71e+08, 1.13e+08\n",
      "1.69e+08, 1.14e+08\n",
      "1.67e+08, 1.15e+08\n",
      "1.65e+08, 1.15e+08\n",
      "1.62e+08, 1.16e+08\n",
      "1.60e+08, 1.16e+08\n",
      "1.58e+08, 1.17e+08\n",
      "1.55e+08, 1.18e+08\n",
      "1.53e+08, 1.18e+08\n",
      "1.51e+08, 1.19e+08\n",
      "1.48e+08, 1.19e+08\n",
      "1.45e+08, 1.20e+08\n"
     ]
    }
   ],
   "source": [
    "for i in range(len(pPerp)):\n",
    "    #print(pPerp[i], pParallel[i])\n",
    "    print('{0:0.2e}, {1:0.2e}'.format(vPerp[i], vParallel[i]))"
   ]
  },
  {
   "cell_type": "code",
   "execution_count": null,
   "metadata": {
    "collapsed": true
   },
   "outputs": [],
   "source": []
  }
 ],
 "metadata": {
  "kernelspec": {
   "display_name": "Python 3",
   "language": "python",
   "name": "python3"
  },
  "language_info": {
   "codemirror_mode": {
    "name": "ipython",
    "version": 3
   },
   "file_extension": ".py",
   "mimetype": "text/x-python",
   "name": "python",
   "nbconvert_exporter": "python",
   "pygments_lexer": "ipython3",
   "version": "3.5.2"
  }
 },
 "nbformat": 4,
 "nbformat_minor": 2
}
