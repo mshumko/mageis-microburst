{
 "cells": [
  {
   "cell_type": "markdown",
   "metadata": {},
   "source": [
    "Here I develop the diffusion curves for the magEIS microbust"
   ]
  },
  {
   "cell_type": "code",
   "execution_count": 12,
   "metadata": {
    "collapsed": true
   },
   "outputs": [],
   "source": [
    "import numpy as np\n",
    "import matplotlib.pyplot as plt\n",
    "from matplotlib.patches import Ellipse\n",
    "%matplotlib inline"
   ]
  },
  {
   "cell_type": "markdown",
   "metadata": {},
   "source": [
    "Define physical constants and relativistic $\\beta$ and $\\gamma$, functions of kinetic energy for electrons"
   ]
  },
  {
   "cell_type": "code",
   "execution_count": 13,
   "metadata": {
    "collapsed": true
   },
   "outputs": [],
   "source": [
    "c = 3.0E8 # m/s\n",
    "mu_0 = 1.26E-6 # H·m−1 or N·A−2\n",
    "eps0 = 8.85E-12 # F/m\n",
    "m_p = 1.7E-27 # kg\n",
    "m_e = 9.1E-31 # kg\n",
    "q_e = -1.6E-19 # C\n",
    "beta = lambda Ek: np.sqrt(1-(Ek/511+1)**(-2))\n",
    "gamma = lambda Ek: np.sqrt(1-beta(Ek)**2)**(-1/2)"
   ]
  },
  {
   "cell_type": "markdown",
   "metadata": {},
   "source": [
    "Define a dipole magnetic field function in terms of L and $\\lambda$"
   ]
  },
  {
   "cell_type": "code",
   "execution_count": 14,
   "metadata": {
    "collapsed": true
   },
   "outputs": [],
   "source": [
    "B0 = 31.2E-6 # Tesla from Schultz and Lanzerotti \n",
    "\n",
    "# MagB is from Eq. 1.23 in Schultz and Lanzerotti for a dipole field.\n",
    "magB = lambda mlat, L: (B0/L**3)*np.sqrt(1 + 3*np.power(np.sin(np.deg2rad(mlat)), 2))/np.cos(np.deg2rad(mlat))**6"
   ]
  },
  {
   "cell_type": "markdown",
   "metadata": {},
   "source": [
    "Define plasma frequency $\\omega_{pe}$, gyrofrequency $\\omega_{ce}$, and the chorus |k| (assume parallel propagation and cold plasma dispersion relation).\n",
    "\n",
    "These equations are parametrized in terms of L shell and magnetic latitude using a dipole magnetic field"
   ]
  },
  {
   "cell_type": "code",
   "execution_count": 15,
   "metadata": {
    "collapsed": true
   },
   "outputs": [],
   "source": [
    "wce = lambda λ, Ldip: np.abs(q_e)*magB(λ, Ldip)/m_e\n",
    "n_e = lambda n0, λ = None: n0 # Electron number density. Currently constant, but can assume a complex function.\n",
    "wpe = lambda n0, λ = None: np.sqrt(n_e(n0, λ)*q_e**2/(m_e*eps0))\n",
    "magk = lambda w, n0, λ, Ldip: (w/c)*np.sqrt(1 - wpe(n0, λ)**2/(w*(w - wce(λ, Ldip))))"
   ]
  },
  {
   "cell_type": "code",
   "execution_count": 16,
   "metadata": {
    "collapsed": true
   },
   "outputs": [],
   "source": [
    "def p(vPerp, vParallel):\n",
    "    \"\"\"\n",
    "    Map velocity to momentum space\n",
    "    v is two lists, vperp and vparallel.\n",
    "    \"\"\"\n",
    "    pPerp = vPerp/np.sqrt(1 - (vPerp**2 + vParallel**2)/c**2)/c\n",
    "    pParallel = vParallel/np.sqrt(1 - (vPerp**2 + vParallel**2)/c**2)/c\n",
    "    return pPerp, pParallel"
   ]
  },
  {
   "cell_type": "markdown",
   "metadata": {},
   "source": [
    "Assuming a resonance, define the perpendicular velocity given a set of conditions and parallel velocity"
   ]
  },
  {
   "cell_type": "code",
   "execution_count": 17,
   "metadata": {
    "collapsed": true
   },
   "outputs": [],
   "source": [
    "def resCurveVperp(vParallel, w, n0, λ, L, n = 1):\n",
    "    \"\"\"\n",
    "    This function defines the perpendicular velocity of a resonant particle with arbitrary resonance number.\n",
    "    \"\"\"\n",
    "    A = c**2*(w**2 + (magk(w, n0, λ, L)*vParallel)**2 - 2*w*vParallel*magk(w, n0, λ, L))/(wce(λ, L)*n)**2\n",
    "    return np.sqrt(c**2 - vParallel**2 - A)\n",
    "\n",
    "def resCurveVparallel(vPerp, w, n0, λ, L, n = 1):\n",
    "    A = magk(w, n0, λ, L)*w\n",
    "    B = n*np.sqrt(-(magk(w, n0, λ, L)*wce(λ, L)*vPerp)**2 + (magk(w, n0, λ, L)*wce(λ, L))**2 + (w*wce(λ, L))**2\n",
    "                 + (n*wce(λ, L)*vPerp)**2 - n**2*wce(λ, L)**4)\n",
    "    C = magk(w, n0, λ, L)**2 - (n*wce(λ, L))**2\n",
    "    return (A + B)/C, (A - B)/C"
   ]
  },
  {
   "cell_type": "markdown",
   "metadata": {},
   "source": [
    "Assuming a constant phase velocity, the following function maps the electron parallel velocity into perpendicular velocity along a diffusion curve (conservation of kinetic energy implied). Free parameters are the phase velocity and "
   ]
  },
  {
   "cell_type": "code",
   "execution_count": 18,
   "metadata": {
    "collapsed": true
   },
   "outputs": [],
   "source": [
    "def calcDiffusionCurveConstantU(v_parallel,  u_0, v_0):\n",
    "    \"\"\"\n",
    "    This function returns the perpendicular velocity from the diffusion\n",
    "    equation given in Eq. 6 in Summers et al. 1998. \n",
    "\n",
    "    Input velocity units must be divided by c!\n",
    "\n",
    "    THIS FUNCTION ASSUMES THAT THE WAVE PHASE VELOCITY IS CONSTANT!\n",
    "    \"\"\"\n",
    "    numerator = ( -(1 - (u_0*v_0)**2)*v_parallel**2 + \n",
    "        2*u_0*(1 - v_0**2)*v_parallel + v_0**2 + u_0**2)\n",
    "    denomimator = 1 - u_0**2\n",
    "    return np.sqrt(numerator/denomimator)"
   ]
  },
  {
   "cell_type": "code",
   "execution_count": 19,
   "metadata": {
    "collapsed": true
   },
   "outputs": [],
   "source": [
    "v_a = lambda B, n: 1e-9*B/np.sqrt((1e6)*mu_0*n*m_p)\n",
    "summersAlpha = lambda B, n: (m_p/m_e)*(v_a(n, B)/c)**2\n",
    "u = lambda omega, B, n: np.sqrt(summersAlpha(B, n)*omega*(1 - omega))"
   ]
  },
  {
   "cell_type": "markdown",
   "metadata": {},
   "source": [
    "Define a generic diffusion curve calculator wrapper"
   ]
  },
  {
   "cell_type": "code",
   "execution_count": 20,
   "metadata": {
    "collapsed": true
   },
   "outputs": [],
   "source": [
    "def calcDiffusionCurveConstantUWrapper(v_parallel, E, B, n, omega):\n",
    "    \"\"\"\n",
    "    Energy must be in keV!\n",
    "    \"\"\"\n",
    "    u_ph = u(omega, B, n)\n",
    "    v_0 = beta(E)\n",
    "    v_perp = calcDiffusionCurveConstantU(v_parallel,  u_ph, v_0)\n",
    "    \n",
    "    #filter out the nan's\n",
    "    validV = np.where(np.logical_not(np.isnan(v_perp)))[0]\n",
    "    return v_perp[validV], v_parallel[validV]"
   ]
  },
  {
   "cell_type": "code",
   "execution_count": 41,
   "metadata": {
    "collapsed": true
   },
   "outputs": [],
   "source": [
    "def drawArc(r, theta):\n",
    "    \"\"\"\n",
    "    This function will draw arcs of radius r (can map it to momenta)\n",
    "    \"\"\"\n",
    "    return r*np.cos(np.deg2rad(theta)), r*np.sin(np.deg2rad(theta))"
   ]
  },
  {
   "cell_type": "markdown",
   "metadata": {},
   "source": [
    "Now play around with the parameters to get a sence of what the curves look like"
   ]
  },
  {
   "cell_type": "code",
   "execution_count": 45,
   "metadata": {},
   "outputs": [
    {
     "name": "stdout",
     "output_type": "stream",
     "text": [
      "fpe/fce = 0.40631524196036195\n"
     ]
    },
    {
     "name": "stderr",
     "output_type": "stream",
     "text": [
      "/usr/local/lib/python3.5/dist-packages/ipykernel_launcher.py:3: RuntimeWarning: invalid value encountered in sqrt\n",
      "  This is separate from the ipykernel package so we can avoid doing imports until\n",
      "/usr/local/lib/python3.5/dist-packages/matplotlib/axes/_axes.py:545: UserWarning: No labelled objects found. Use label='...' kwarg on individual plots.\n",
      "  warnings.warn(\"No labelled objects found. \"\n"
     ]
    },
    {
     "data": {
      "image/png": "[encoded data removed]",
      "text/plain": [
       "<matplotlib.figure.Figure at 0x7fea3b00e5c0>"
      ]
     },
     "metadata": {},
     "output_type": "display_data"
    }
   ],
   "source": [
    "#E = [34, 54, 78, 108, 143, 182, 223]\n",
    "E = np.arange(100, 1500, 250)\n",
    "n = 0.5 # cm^-3 # Just a guess\n",
    "omega = 0.4 # wave frequency/elctron gyrofrequncy\n",
    "λ = 10\n",
    "L = 4\n",
    "harmonic = 1\n",
    "print('fpe/fce = {}'.format(wpe(1E6*n, λ)/wce(λ, L)))\n",
    "\n",
    "v_parallel = np.linspace(0, 0.99, num = 5000)\n",
    "params = 'n_e = {} cm^-3 \\nB = {} nT \\nomega = {} \\nmLat = {} \\nL = {}'.format(\n",
    "    n, round(magB(λ, L)*1E9, 0), omega, λ, L)\n",
    "\n",
    "fig=plt.figure(figsize=(10, 10), dpi= 80, facecolor='w', edgecolor='k')\n",
    "for e in E:\n",
    "    # Calculate diffusion curve\n",
    "    v_perpFlt, v_parallelFlt = calcDiffusionCurveConstantUWrapper(v_parallel, e, magB(λ, L)*1E9, n, omega)\n",
    "    p_perpFlt, p_parallelFlt = p(v_perpFlt*c, v_parallelFlt*c)\n",
    "    # Plot the results\n",
    "    plt.plot(p_perpFlt, p_parallelFlt) #, label = '{} keV'.format(e))\n",
    "\n",
    "# Draw arcs of equal energy (momentum)\n",
    "r = 3.5\n",
    "theta = np.linspace(0, 90)\n",
    "constPperp, constPparallel = drawArc(r, theta)\n",
    "\n",
    "plt.plot(constPperp, constPparallel, 'k--')\n",
    "\n",
    "plt.xlabel(r'$v_{\\perp}/m_e c$'); plt.ylabel(r'$v_{||}/m_e c$')\n",
    "plt.text(3, 3, params, ha = 'left', fontsize = 15)\n",
    "plt.legend()\n",
    "plt.axes().set_ylim(0, 4)\n",
    "plt.axes().set_xlim(0, 4)\n",
    "plt.grid(True)\n",
    "#plt.axes().set_aspect('equal')"
   ]
  },
  {
   "cell_type": "code",
   "execution_count": null,
   "metadata": {
    "collapsed": true
   },
   "outputs": [],
   "source": []
  }
 ],
 "metadata": {
  "kernelspec": {
   "display_name": "Python 3",
   "language": "python",
   "name": "python3"
  },
  "language_info": {
   "codemirror_mode": {
    "name": "ipython",
    "version": 3
   },
   "file_extension": ".py",
   "mimetype": "text/x-python",
   "name": "python",
   "nbconvert_exporter": "python",
   "pygments_lexer": "ipython3",
   "version": "3.5.2"
  }
 },
 "nbformat": 4,
 "nbformat_minor": 2
}
