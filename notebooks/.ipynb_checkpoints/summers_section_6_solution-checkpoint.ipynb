{
 "cells": [
  {
   "cell_type": "code",
   "execution_count": 2,
   "metadata": {
    "collapsed": true
   },
   "outputs": [],
   "source": [
    "import numpy as np\n",
    "import matplotlib.pyplot as plt\n",
    "%matplotlib inline"
   ]
  },
  {
   "cell_type": "code",
   "execution_count": 1,
   "metadata": {
    "collapsed": true
   },
   "outputs": [],
   "source": [
    "c = 3.0E8 # m/s\n",
    "mu_0 = 1.26E-6 # H·m−1 or N·A−2\n",
    "eps0 = 8.85E-12 # F/m\n",
    "m_p = 1.7E-27 # kg\n",
    "m_e = 9.1E-31 # kg\n",
    "q_e = -1.6E-19 # C"
   ]
  },
  {
   "cell_type": "code",
   "execution_count": 3,
   "metadata": {
    "collapsed": true
   },
   "outputs": [],
   "source": [
    "B0 = 31.2E-6 # Tesla from Schultz and Lanzerotti \n",
    "\n",
    "# MagB is from Eq. 1.23 in Schultz and Lanzerotti for a dipole field.\n",
    "magB = lambda mlat, L: (B0/L**3)*np.sqrt(1 + 3*np.power(np.sin(np.deg2rad(mlat)), 2))/np.cos(np.deg2rad(mlat))**6"
   ]
  },
  {
   "cell_type": "code",
   "execution_count": 4,
   "metadata": {
    "collapsed": true
   },
   "outputs": [],
   "source": [
    "wce = lambda λ, Ldip: np.abs(q_e)*magB(λ, Ldip)/m_e\n",
    "n_e = lambda n0, λ = None: n0 # Electron number density. Currently constant, but can assume a complex function.\n",
    "wpe = lambda n0, λ = None: np.sqrt(n_e(n0, λ)*q_e**2/(m_e*eps0))\n",
    "magk = lambda w, n0, λ, Ldip: (w/c)*np.sqrt(1 - wpe(n0, λ)**2/(w*(w - wce(λ, Ldip))))\n",
    "\n",
    "def p(vPerp, vParallel):\n",
    "    \"\"\"\n",
    "    Relativsticlly map velocity to momentum space\n",
    "    v is two lists, vperp and vparallel.\n",
    "    Output is normalized momnetum (Momentum in SI units)/(me*c)\n",
    "    \"\"\"\n",
    "    pPerp = vPerp/np.sqrt(1 - (vPerp**2 + vParallel**2)/c**2)/c\n",
    "    pParallel = vParallel/np.sqrt(1 - (vPerp**2 + vParallel**2)/c**2)/c\n",
    "    return pPerp, pParallel"
   ]
  },
  {
   "cell_type": "code",
   "execution_count": null,
   "metadata": {
    "collapsed": true
   },
   "outputs": [],
   "source": [
    "summers_alpha = lambda λ, Ldip, n0: wce(λ, Ldip)"
   ]
  }
 ],
 "metadata": {
  "kernelspec": {
   "display_name": "Python 3",
   "language": "python",
   "name": "python3"
  },
  "language_info": {
   "codemirror_mode": {
    "name": "ipython",
    "version": 3
   },
   "file_extension": ".py",
   "mimetype": "text/x-python",
   "name": "python",
   "nbconvert_exporter": "python",
   "pygments_lexer": "ipython3",
   "version": "3.5.2"
  }
 },
 "nbformat": 4,
 "nbformat_minor": 2
}
